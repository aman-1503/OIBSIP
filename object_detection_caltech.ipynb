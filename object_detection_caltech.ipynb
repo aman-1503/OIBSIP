{
 "cells": [
  {
   "cell_type": "markdown",
   "id": "4d15e9f9-6ced-44d0-acf4-235194aa7ce3",
   "metadata": {},
   "source": [
    "6. Object detection using Transfer Learning of CNN architectures\n",
    "<br>\n",
    "a. Load in a pre-trained CNN model trained on a large dataset\n",
    "<br>\n",
    "b. Freeze parameters (weights) in model’s lower convolutional layers\n",
    "<br>\n",
    "c. Add custom classifier with several layers of trainable parameters to model\n",
    "<br>\n",
    "d. Train classifier layers on training data available for task\n",
    "<br>\n",
    "e. Fine-tune hyper parameters and unfreeze more layers as needed"
   ]
  },
  {
   "cell_type": "code",
   "execution_count": 3,
   "id": "31c2e651-8075-41a1-b996-30bca14f1627",
   "metadata": {},
   "outputs": [],
   "source": [
    "import tensorflow as tf\n",
    "from tensorflow import keras\n",
    "from tensorflow.keras.applications import VGG16\n",
    "from tensorflow.keras.models import Model\n",
    "from tensorflow.keras.layers import Dense, Flatten\n",
    "from tensorflow.keras.optimizers import Adam\n",
    "from tensorflow.keras.preprocessing.image import ImageDataGenerator\n",
    "import numpy as np"
   ]
  },
  {
   "cell_type": "markdown",
   "id": "203d03af-e7eb-406f-b9dc-9dad72072a3f",
   "metadata": {},
   "source": [
    "#### Pre processing img data "
   ]
  },
  {
   "cell_type": "code",
   "execution_count": 4,
   "id": "bae4a153-6f00-4265-add9-35904409dd72",
   "metadata": {},
   "outputs": [
    {
     "name": "stdout",
     "output_type": "stream",
     "text": [
      "Found 9144 images belonging to 102 classes.\n"
     ]
    }
   ],
   "source": [
    "dataset_dir = \"/Users/amanprabhune/Downloads/LP-IV-datasets/Object Detection(Ass6)/caltech-101-img\"\n",
    "dataset_datagen = ImageDataGenerator(\n",
    "    rescale=1.0 / 255,\n",
    ")\n",
    "\n",
    "# here batch_size is the number of images in each batch\n",
    "batch_size = 2000\n",
    "dataset_generator = dataset_datagen.flow_from_directory(\n",
    "    dataset_dir,\n",
    "    target_size=(64, 64),\n",
    "    batch_size=batch_size,\n",
    "    class_mode='categorical'\n",
    ")"
   ]
  },
  {
   "cell_type": "markdown",
   "id": "4609c200-c5fc-4067-b3b3-bd8b7226e27d",
   "metadata": {},
   "source": [
    "#### Selecting first batch containing 2000 images as train and second batch containing 2000 images as test data"
   ]
  },
  {
   "cell_type": "code",
   "execution_count": 5,
   "id": "b4369f09-67f5-4f91-a6f2-971ed179dea9",
   "metadata": {},
   "outputs": [
    {
     "name": "stdout",
     "output_type": "stream",
     "text": [
      "2000\n",
      "2000\n"
     ]
    }
   ],
   "source": [
    "x_train, y_train =  dataset_generator[0]\n",
    "x_test, y_test = dataset_generator[1]\n",
    "\n",
    "print(len(x_train))\n",
    "print(len(x_test))"
   ]
  },
  {
   "cell_type": "markdown",
   "id": "9db56097-894f-44a2-8b54-8241acd0dea9",
   "metadata": {},
   "source": [
    "#### a. Load in a pre-trained CNN model trained on a large dataset"
   ]
  },
  {
   "cell_type": "code",
   "execution_count": 6,
   "id": "3e80ede0-af89-4fd0-b431-191d5f6401d4",
   "metadata": {},
   "outputs": [
    {
     "name": "stderr",
     "output_type": "stream",
     "text": [
      "2023-11-16 01:28:35.085513: I metal_plugin/src/device/metal_device.cc:1154] Metal device set to: Apple M1\n",
      "2023-11-16 01:28:35.085561: I metal_plugin/src/device/metal_device.cc:296] systemMemory: 8.00 GB\n",
      "2023-11-16 01:28:35.085583: I metal_plugin/src/device/metal_device.cc:313] maxCacheSize: 2.67 GB\n",
      "2023-11-16 01:28:35.085634: I tensorflow/core/common_runtime/pluggable_device/pluggable_device_factory.cc:306] Could not identify NUMA node of platform GPU ID 0, defaulting to 0. Your kernel may not have been built with NUMA support.\n",
      "2023-11-16 01:28:35.085659: I tensorflow/core/common_runtime/pluggable_device/pluggable_device_factory.cc:272] Created TensorFlow device (/job:localhost/replica:0/task:0/device:GPU:0 with 0 MB memory) -> physical PluggableDevice (device: 0, name: METAL, pci bus id: <undefined>)\n"
     ]
    }
   ],
   "source": [
    "# Load VGG16 without top layers\n",
    "weights_path = \"/Users/amanprabhune/Downloads/LP-IV-datasets/Object Detection(Ass6)/vgg16_weights_tf_dim_ordering_tf_kernels_notop.h5\"\n",
    "base_model = VGG16(weights=weights_path, include_top=False, input_shape=(64, 64, 3))"
   ]
  },
  {
   "cell_type": "markdown",
   "id": "8dfc0b6a-99ae-4197-aae2-288d54241ce4",
   "metadata": {},
   "source": [
    "#### b. Freeze parameters (weights) in model’s lower convolutional layers"
   ]
  },
  {
   "cell_type": "code",
   "execution_count": 7,
   "id": "b64173b6-f973-416d-95a5-bfb158f9aa11",
   "metadata": {},
   "outputs": [],
   "source": [
    "for layer in base_model.layers:\n",
    "   layer.trainable = False"
   ]
  },
  {
   "cell_type": "markdown",
   "id": "324ff8f4-4cb4-451e-a72b-3f35ee41f600",
   "metadata": {},
   "source": [
    "#### c. Add custom classifier with several layers of trainable parameters to model"
   ]
  },
  {
   "cell_type": "code",
   "execution_count": 9,
   "id": "e44e9909-36b2-48cb-8470-1e6648a229a2",
   "metadata": {},
   "outputs": [],
   "source": [
    "x = Flatten()(base_model.output)\n",
    "x = Dense(64, activation='relu')(x)\n",
    "predictions = Dense(102, activation='softmax')(x)\n",
    "\n",
    "# Create the model\n",
    "model = Model(inputs=base_model.input, outputs=predictions)\n",
    "# Compile the model\n",
    "model.compile(optimizer=\"adam\", loss='categorical_crossentropy', metrics=['accuracy'])"
   ]
  },
  {
   "cell_type": "markdown",
   "id": "af0aac27-8b92-4f9d-a43a-af5633d440b8",
   "metadata": {},
   "source": [
    "#### d. Train classifier layers on training data available for task"
   ]
  },
  {
   "cell_type": "code",
   "execution_count": 10,
   "id": "3ce936f9-8497-4be8-877b-63d8f7c27885",
   "metadata": {},
   "outputs": [
    {
     "name": "stdout",
     "output_type": "stream",
     "text": [
      "Epoch 1/10\n"
     ]
    },
    {
     "name": "stderr",
     "output_type": "stream",
     "text": [
      "2023-11-16 01:30:30.089588: I tensorflow/core/grappler/optimizers/custom_graph_optimizer_registry.cc:117] Plugin optimizer for device_type GPU is enabled.\n"
     ]
    },
    {
     "name": "stdout",
     "output_type": "stream",
     "text": [
      "63/63 [==============================] - 6s 88ms/step - loss: 3.7376 - accuracy: 0.2490 - val_loss: 3.0357 - val_accuracy: 0.3755\n",
      "Epoch 2/10\n",
      "63/63 [==============================] - 5s 84ms/step - loss: 2.6997 - accuracy: 0.4195 - val_loss: 2.5627 - val_accuracy: 0.4605\n",
      "Epoch 3/10\n",
      "63/63 [==============================] - 5s 84ms/step - loss: 2.1229 - accuracy: 0.5410 - val_loss: 2.2264 - val_accuracy: 0.5210\n",
      "Epoch 4/10\n",
      "63/63 [==============================] - 5s 85ms/step - loss: 1.7194 - accuracy: 0.6125 - val_loss: 2.0633 - val_accuracy: 0.5370\n",
      "Epoch 5/10\n",
      "63/63 [==============================] - 5s 85ms/step - loss: 1.4240 - accuracy: 0.6820 - val_loss: 1.9868 - val_accuracy: 0.5420\n",
      "Epoch 6/10\n",
      "63/63 [==============================] - 5s 85ms/step - loss: 1.1785 - accuracy: 0.7440 - val_loss: 1.8627 - val_accuracy: 0.5690\n",
      "Epoch 7/10\n",
      "63/63 [==============================] - 5s 84ms/step - loss: 0.9983 - accuracy: 0.7810 - val_loss: 1.8201 - val_accuracy: 0.5825\n",
      "Epoch 8/10\n",
      "63/63 [==============================] - 5s 85ms/step - loss: 0.8377 - accuracy: 0.8290 - val_loss: 1.7769 - val_accuracy: 0.5900\n",
      "Epoch 9/10\n",
      "63/63 [==============================] - 5s 85ms/step - loss: 0.7182 - accuracy: 0.8490 - val_loss: 1.7726 - val_accuracy: 0.5905\n",
      "Epoch 10/10\n",
      "63/63 [==============================] - 5s 84ms/step - loss: 0.6161 - accuracy: 0.8765 - val_loss: 1.7708 - val_accuracy: 0.5850\n"
     ]
    },
    {
     "data": {
      "text/plain": [
       "<keras.src.callbacks.History at 0x16a334d90>"
      ]
     },
     "execution_count": 10,
     "metadata": {},
     "output_type": "execute_result"
    }
   ],
   "source": [
    "# Train the model\n",
    "model.fit(x_train, y_train,  epochs=10, validation_data=(x_test, y_test))"
   ]
  },
  {
   "cell_type": "markdown",
   "id": "521fc40f-4c47-462f-8965-9026bdb98edb",
   "metadata": {},
   "source": [
    "#### e. Fine-tune hyper parameters and unfreeze more layers as needed"
   ]
  },
  {
   "cell_type": "code",
   "execution_count": 15,
   "id": "c1d6efc6-3209-4586-8947-385a0120f861",
   "metadata": {},
   "outputs": [
    {
     "name": "stderr",
     "output_type": "stream",
     "text": [
      "WARNING:absl:At this time, the v2.11+ optimizer `tf.keras.optimizers.Adam` runs slowly on M1/M2 Macs, please use the legacy Keras optimizer instead, located at `tf.keras.optimizers.legacy.Adam`.\n"
     ]
    },
    {
     "name": "stdout",
     "output_type": "stream",
     "text": [
      "Epoch 1/20\n"
     ]
    },
    {
     "name": "stderr",
     "output_type": "stream",
     "text": [
      "2023-11-16 01:35:58.923806: E tensorflow/core/grappler/optimizers/meta_optimizer.cc:961] model_pruner failed: INVALID_ARGUMENT: Graph does not contain terminal node Adam/AssignAddVariableOp.\n"
     ]
    },
    {
     "name": "stdout",
     "output_type": "stream",
     "text": [
      "32/32 [==============================] - 6s 173ms/step - loss: 4.1570 - accuracy: 0.2780 - val_loss: 3.2697 - val_accuracy: 0.3940\n",
      "Epoch 2/20\n",
      "32/32 [==============================] - 5s 162ms/step - loss: 2.6684 - accuracy: 0.4265 - val_loss: 2.8613 - val_accuracy: 0.4285\n",
      "Epoch 3/20\n",
      "32/32 [==============================] - 5s 162ms/step - loss: 2.0816 - accuracy: 0.5290 - val_loss: 2.7678 - val_accuracy: 0.4635\n",
      "Epoch 4/20\n",
      "32/32 [==============================] - 5s 162ms/step - loss: 1.5994 - accuracy: 0.6195 - val_loss: 2.3538 - val_accuracy: 0.5155\n",
      "Epoch 5/20\n",
      "32/32 [==============================] - 5s 163ms/step - loss: 1.2040 - accuracy: 0.6960 - val_loss: 2.5442 - val_accuracy: 0.5295\n",
      "Epoch 6/20\n",
      "32/32 [==============================] - 5s 162ms/step - loss: 0.9557 - accuracy: 0.7555 - val_loss: 2.5669 - val_accuracy: 0.5355\n",
      "Epoch 7/20\n",
      "32/32 [==============================] - 5s 162ms/step - loss: 0.7150 - accuracy: 0.8005 - val_loss: 2.6619 - val_accuracy: 0.5360\n",
      "Epoch 8/20\n",
      "32/32 [==============================] - 5s 163ms/step - loss: 0.4824 - accuracy: 0.8645 - val_loss: 2.6670 - val_accuracy: 0.5685\n",
      "Epoch 9/20\n",
      "32/32 [==============================] - 5s 162ms/step - loss: 0.4781 - accuracy: 0.8565 - val_loss: 2.9713 - val_accuracy: 0.5430\n",
      "Epoch 10/20\n",
      "32/32 [==============================] - 5s 163ms/step - loss: 0.3671 - accuracy: 0.8880 - val_loss: 3.0485 - val_accuracy: 0.5410\n",
      "Epoch 11/20\n",
      "32/32 [==============================] - 5s 162ms/step - loss: 0.2254 - accuracy: 0.9355 - val_loss: 3.0325 - val_accuracy: 0.5515\n",
      "Epoch 12/20\n",
      "32/32 [==============================] - 5s 163ms/step - loss: 0.1644 - accuracy: 0.9505 - val_loss: 3.1841 - val_accuracy: 0.5660\n",
      "Epoch 13/20\n",
      "32/32 [==============================] - 5s 163ms/step - loss: 0.1288 - accuracy: 0.9625 - val_loss: 3.1484 - val_accuracy: 0.5600\n",
      "Epoch 14/20\n",
      "32/32 [==============================] - 5s 162ms/step - loss: 0.1604 - accuracy: 0.9500 - val_loss: 3.4516 - val_accuracy: 0.5595\n",
      "Epoch 15/20\n",
      "32/32 [==============================] - 5s 164ms/step - loss: 0.1495 - accuracy: 0.9520 - val_loss: 3.4673 - val_accuracy: 0.5555\n",
      "Epoch 16/20\n",
      "32/32 [==============================] - 5s 163ms/step - loss: 0.1186 - accuracy: 0.9585 - val_loss: 3.8020 - val_accuracy: 0.5565\n",
      "Epoch 17/20\n",
      "32/32 [==============================] - 5s 163ms/step - loss: 0.1816 - accuracy: 0.9440 - val_loss: 3.5647 - val_accuracy: 0.5530\n",
      "Epoch 18/20\n",
      "32/32 [==============================] - 5s 163ms/step - loss: 0.1226 - accuracy: 0.9625 - val_loss: 3.8441 - val_accuracy: 0.5535\n",
      "Epoch 19/20\n",
      "32/32 [==============================] - 5s 163ms/step - loss: 0.1289 - accuracy: 0.9610 - val_loss: 3.7222 - val_accuracy: 0.5705\n",
      "Epoch 20/20\n",
      "32/32 [==============================] - 5s 164ms/step - loss: 0.0571 - accuracy: 0.9830 - val_loss: 3.6255 - val_accuracy: 0.5880\n"
     ]
    },
    {
     "data": {
      "text/plain": [
       "<keras.src.callbacks.History at 0x2d9e10700>"
      ]
     },
     "execution_count": 15,
     "metadata": {},
     "output_type": "execute_result"
    }
   ],
   "source": [
    "base_model = VGG16(weights=weights_path, include_top=False, input_shape=(64, 64, 3))\n",
    "# freeze all layers first\n",
    "for layer in base_model.layers:\n",
    "   layer.trainable = False\n",
    "# unfreeze last 4 layers of base model\n",
    "for layer in base_model.layers[len(base_model.layers) - 2:]:\n",
    "   layer.trainable = True\n",
    "\n",
    "x = Flatten()(base_model.output)\n",
    "x = Dense(64, activation='relu')(x)\n",
    "predictions = Dense(102, activation='softmax')(x)\n",
    "\n",
    "# Create the model\n",
    "model = Model(inputs=base_model.input, outputs=predictions)\n",
    "# Compile the model\n",
    "model.compile(optimizer=Adam(learning_rate=0.001), loss='categorical_crossentropy', metrics=['accuracy'])\n",
    "# training fine tuned model\n",
    "model.fit(x_train, y_train, batch_size=64, epochs=20, validation_data=(x_test, y_test))"
   ]
  },
  {
   "cell_type": "code",
   "execution_count": 11,
   "id": "fc035871-ca9a-4c0e-9204-d999e14c53c8",
   "metadata": {},
   "outputs": [
    {
     "name": "stdout",
     "output_type": "stream",
     "text": [
      "63/63 [==============================] - 3s 46ms/step\n"
     ]
    }
   ],
   "source": [
    "import matplotlib.pyplot as plt\n",
    "predicted_value = model.predict(x_test)"
   ]
  },
  {
   "cell_type": "code",
   "execution_count": 18,
   "id": "afbe6975",
   "metadata": {},
   "outputs": [
    {
     "data": {
      "text/plain": [
       "0.5879999995231628"
      ]
     },
     "execution_count": 18,
     "metadata": {},
     "output_type": "execute_result"
    }
   ],
   "source": []
  },
  {
   "cell_type": "code",
   "execution_count": 19,
   "id": "3637d2e8-05ea-4e4d-a38b-b2c1ca6c76be",
   "metadata": {},
   "outputs": [],
   "source": [
    "labels = list(dataset_generator.class_indices.keys())"
   ]
  },
  {
   "cell_type": "code",
   "execution_count": 34,
   "id": "6d4825f5-8e54-47a9-ab3b-57e55c9d11f4",
   "metadata": {},
   "outputs": [
    {
     "name": "stdout",
     "output_type": "stream",
     "text": [
      "Preditcted:  sunflower\n",
      "Actual:  sunflower\n"
     ]
    },
    {
     "data": {
      "image/png": "[encoded data removed]",
      "text/plain": [
       "<Figure size 640x480 with 1 Axes>"
      ]
     },
     "metadata": {},
     "output_type": "display_data"
    }
   ],
   "source": [
    "n = 4\n",
    "plt.imshow(x_test[n])\n",
    "print(\"Preditcted: \",labels[np.argmax(predicted_value[n])])\n",
    "print(\"Actual: \", labels[np.argmax(y_test[n])])"
   ]
  },
  {
   "cell_type": "code",
   "execution_count": null,
   "id": "83695201",
   "metadata": {},
   "outputs": [],
   "source": []
  }
 ],
 "metadata": {
  "kernelspec": {
   "display_name": "Python 3.9 (tensorflow)",
   "language": "python",
   "name": "tensorflow"
  },
  "language_info": {
   "codemirror_mode": {
    "name": "ipython",
    "version": 3
   },
   "file_extension": ".py",
   "mimetype": "text/x-python",
   "name": "python",
   "nbconvert_exporter": "python",
   "pygments_lexer": "ipython3",
   "version": "3.10.12"
  }
 },
 "nbformat": 4,
 "nbformat_minor": 5
}
